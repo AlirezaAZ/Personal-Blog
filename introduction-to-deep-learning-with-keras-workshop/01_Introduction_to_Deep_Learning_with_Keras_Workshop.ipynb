{
  "nbformat": 4,
  "nbformat_minor": 0,
  "metadata": {
    "colab": {
      "name": "01.Introduction to Deep Learning with Keras Workshop.ipynb",
      "version": "0.3.2",
      "provenance": [],
      "collapsed_sections": [],
      "toc_visible": true
    },
    "kernelspec": {
      "name": "python3",
      "display_name": "Python 3"
    },
    "accelerator": "GPU"
  },
  "cells": [
    {
      "metadata": {
        "id": "okFF46GObvJf",
        "colab_type": "text"
      },
      "cell_type": "markdown",
      "source": [
        "#**Introduction to Deep Learning with Keras Workshop**\n",
        "*Tutorial Session of the International Conference on Contemporary Issues In Data Science (CiDaS)* - 5, 6 May 2019\n",
        "\n",
        "Lecturer: Hadi Abdi Khojasteh\n",
        "\n",
        "hkhojasteh [at] iasbs.ac.ir</br>\n",
        "https://github.com/hkhojasteh/Personal-Blog"
      ]
    },
    {
      "metadata": {
        "id": "YqyuEGmuJpB0",
        "colab_type": "text"
      },
      "cell_type": "markdown",
      "source": [
        "#Introduction"
      ]
    },
    {
      "metadata": {
        "id": "XjBFWew1MQxN",
        "colab_type": "text"
      },
      "cell_type": "markdown",
      "source": [
        "##Preparing google colab environment"
      ]
    },
    {
      "metadata": {
        "id": "z0i8fxuQJ3nR",
        "colab_type": "code",
        "outputId": "7518d45a-7175-4634-ee47-07299bbf9f4f",
        "colab": {
          "base_uri": "https://localhost:8080/",
          "height": 428
        }
      },
      "cell_type": "code",
      "source": [
        "![ -f deeplearning-keras-workshop.zip ] || wget 'https://github.com/hkhojasteh/Personal-Blog/raw/master/deeplearning-keras-workshop.zip'\n",
        "!unzip 'deeplearning-keras-workshop.zip'\n",
        "!rm deeplearning-keras-workshop.zip"
      ],
      "execution_count": 11,
      "outputs": [
        {
          "output_type": "stream",
          "text": [
            "--2019-03-04 03:18:17--  https://github.com/hkhojasteh/Personal-Blog/raw/master/deeplearning-keras-workshop.zip\n",
            "Resolving github.com (github.com)... 140.82.118.4, 140.82.118.3\n",
            "Connecting to github.com (github.com)|140.82.118.4|:443... connected.\n",
            "HTTP request sent, awaiting response... 302 Found\n",
            "Location: https://raw.githubusercontent.com/hkhojasteh/Personal-Blog/master/deeplearning-keras-workshop.zip [following]\n",
            "--2019-03-04 03:18:18--  https://raw.githubusercontent.com/hkhojasteh/Personal-Blog/master/deeplearning-keras-workshop.zip\n",
            "Resolving raw.githubusercontent.com (raw.githubusercontent.com)... 151.101.0.133, 151.101.64.133, 151.101.128.133, ...\n",
            "Connecting to raw.githubusercontent.com (raw.githubusercontent.com)|151.101.0.133|:443... connected.\n",
            "HTTP request sent, awaiting response... 200 OK\n",
            "Length: 8147452 (7.8M) [application/zip]\n",
            "Saving to: ‘deeplearning-keras-workshop.zip’\n",
            "\n",
            "\r          deeplearn   0%[                    ]       0  --.-KB/s               \rdeeplearning-keras- 100%[===================>]   7.77M  --.-KB/s    in 0.06s   \n",
            "\n",
            "2019-03-04 03:18:18 (131 MB/s) - ‘deeplearning-keras-workshop.zip’ saved [8147452/8147452]\n",
            "\n",
            "Archive:  deeplearning-keras-workshop.zip\n",
            "replace dataset.py? [y]es, [n]o, [A]ll, [N]one, [r]ename: y\n",
            "  inflating: dataset.py              \n",
            "  inflating: dataset/Data_hoda_full.mat  \n",
            "  inflating: image/elephant.jpg      \n",
            "  inflating: image/sign.jpg          \n",
            "  inflating: image/t-shirt.jpg       \n"
          ],
          "name": "stdout"
        }
      ]
    },
    {
      "metadata": {
        "id": "4hiOp84_j1Qr",
        "colab_type": "text"
      },
      "cell_type": "markdown",
      "source": [
        "##Installing required libraries\n",
        "For installing packages using Anaconda use `conda install <Package Name>` command or you can also use the graphical interface Anaconda Navigator to install conda packages.\n"
      ]
    },
    {
      "metadata": {
        "id": "aVGLI9WCH-eF",
        "colab_type": "code",
        "outputId": "5b654a29-8b7c-4490-e86f-5dc0f9aef3d4",
        "colab": {
          "base_uri": "https://localhost:8080/",
          "height": 224
        }
      },
      "cell_type": "code",
      "source": [
        "!pip install matplotlib\n",
        "!pip install numpy\n",
        "!pip install Pillow"
      ],
      "execution_count": 12,
      "outputs": [
        {
          "output_type": "stream",
          "text": [
            "Requirement already satisfied: matplotlib in /usr/local/lib/python3.6/dist-packages (3.0.2)\n",
            "Requirement already satisfied: pyparsing!=2.0.4,!=2.1.2,!=2.1.6,>=2.0.1 in /usr/local/lib/python3.6/dist-packages (from matplotlib) (2.3.1)\n",
            "Requirement already satisfied: python-dateutil>=2.1 in /usr/local/lib/python3.6/dist-packages (from matplotlib) (2.5.3)\n",
            "Requirement already satisfied: kiwisolver>=1.0.1 in /usr/local/lib/python3.6/dist-packages (from matplotlib) (1.0.1)\n",
            "Requirement already satisfied: numpy>=1.10.0 in /usr/local/lib/python3.6/dist-packages (from matplotlib) (1.14.6)\n",
            "Requirement already satisfied: cycler>=0.10 in /usr/local/lib/python3.6/dist-packages (from matplotlib) (0.10.0)\n",
            "Requirement already satisfied: six>=1.5 in /usr/local/lib/python3.6/dist-packages (from python-dateutil>=2.1->matplotlib) (1.11.0)\n",
            "Requirement already satisfied: setuptools in /usr/local/lib/python3.6/dist-packages (from kiwisolver>=1.0.1->matplotlib) (40.8.0)\n",
            "Requirement already satisfied: numpy in /usr/local/lib/python3.6/dist-packages (1.14.6)\n",
            "Requirement already satisfied: Pillow in /usr/local/lib/python3.6/dist-packages (4.0.0)\n",
            "Requirement already satisfied: olefile in /usr/local/lib/python3.6/dist-packages (from Pillow) (0.46)\n"
          ],
          "name": "stdout"
        }
      ]
    },
    {
      "metadata": {
        "nbpresent": {
          "id": "de829a92-1fb6-44ad-a2c6-fc1001e1f6e1"
        },
        "id": "0pnYzIPmj1Qv",
        "colab_type": "code",
        "colab": {}
      },
      "cell_type": "code",
      "source": [
        "# Import matplotlib\n",
        "import matplotlib.pyplot as plt\n",
        "\n",
        "# Import numpy\n",
        "import numpy as np"
      ],
      "execution_count": 0,
      "outputs": []
    }
   ]
}