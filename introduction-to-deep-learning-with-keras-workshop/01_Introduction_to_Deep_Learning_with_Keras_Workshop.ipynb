{
  "nbformat": 4,
  "nbformat_minor": 0,
  "metadata": {
    "colab": {
      "name": "01.Introduction to Deep Learning with Keras Workshop.ipynb",
      "version": "0.3.2",
      "provenance": [],
      "collapsed_sections": [],
      "toc_visible": true
    },
    "kernelspec": {
      "name": "python3",
      "display_name": "Python 3"
    },
    "accelerator": "GPU"
  },
  "cells": [
    {
      "metadata": {
        "id": "okFF46GObvJf",
        "colab_type": "text"
      },
      "cell_type": "markdown",
      "source": [
        "#**Introduction to Deep Learning with Keras Workshop**\n",
        "*Tutorial Session of the International Conference on Contemporary Issues In Data Science (CiDaS)* - 5, 6 May 2019\n",
        "\n",
        "Lecturer: Hadi Abdi Khojasteh\n",
        "\n",
        "hkhojasteh [at] iasbs.ac.ir</br>\n",
        "https://github.com/hkhojasteh/Personal-Blog"
      ]
    }
   ]
}